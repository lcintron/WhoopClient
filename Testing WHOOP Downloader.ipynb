{
 "cells": [
  {
   "cell_type": "markdown",
   "source": [
    "## Import the whoop_login class\n",
    "Import the whoop_download script (keep it in the same directory add it to your path to make it importable)"
   ],
   "metadata": {}
  },
  {
   "cell_type": "code",
   "execution_count": null,
   "source": [
    "from WhoopClient import WhoopClient\n"
   ],
   "outputs": [],
   "metadata": {}
  },
  {
   "cell_type": "markdown",
   "source": [
    "## Authenticating\n",
    "Before you get to this section, you'll need to set up an .ini file, where you can store your username and password. The whoop_login object looks for a section called [whoop], so please use the example file. \n",
    "\n",
    "Once your .ini is set up, you can authenticate yourself and grab an api token from the WHOOP API. You only need to do this once and will be able to access your data using the attached methods afterwards. \n",
    "\n",
    "To begin, you'll want to store the whoop_login() class in a variable, so you can refer back to it. Client is just the name I chose, but you can call it anything. From there, you'll run the get_authorization method and provide the name of your .ini file. If your .ini file is stored in a different directory, you'll need to provide the path in your file name (or add your .ini's location to your path). "
   ],
   "metadata": {}
  },
  {
   "cell_type": "code",
   "execution_count": null,
   "source": [
    "client=WhoopClient()\n",
    "client.get_authorization('whoop.ini')"
   ],
   "outputs": [],
   "metadata": {}
  },
  {
   "cell_type": "markdown",
   "source": [
    "## Key Metrics\n",
    "To get the bulk of your WHOOP data, you can use the keydata methods. For each method, there's an \"all\" and a \"timeframe\" version, so you can choose between grabbing all of your data or just a subset. Depending on how long you've been on WHOOP, the \"get_keydata_all\" method may take a bit of time - I've been on WHOOP a little over two years so mine takes a little over a minute.\n",
    "\n",
    "The Activities data comes directly out of the Key Data and the Sleep data uses the sleep ids from the Key Data, so I recommend running this method first, as the other two methods will run it anyways if it hasn't been run. Once you run this method, the data is stored and readily available for use. "
   ],
   "metadata": {}
  },
  {
   "cell_type": "code",
   "execution_count": null,
   "source": [
    "keydata=client.get_keydata_all()\n",
    "keydata.tail(5)\n"
   ],
   "outputs": [],
   "metadata": {
    "tags": []
   }
  },
  {
   "cell_type": "markdown",
   "source": [
    "You can also run this method for a given timeframe. You must provide a start date. If you don't provide a start date, it will default to today. "
   ],
   "metadata": {}
  },
  {
   "cell_type": "code",
   "execution_count": null,
   "source": [
    "last_month=client.get_keydata_timeframe('2020-09-10')\n",
    "first_month=client.get_keydata_timeframe(start='2021-07-04',end='2021-07-04')\n",
    "first_month.tail(5)\n",
    "\n"
   ],
   "outputs": [],
   "metadata": {}
  },
  {
   "cell_type": "markdown",
   "source": [
    "## Activities\n",
    "This method pulls the activity section out of the key dataset, then normalizes it into its own dataset for easier use. If the \"get_keydata_all\" method has not yet been run, then this method will run it first, then return the activity results. \n",
    "\n",
    "As with the Key Data method, you can run this for either all activities, or activities between timeframes. If no end date is provided, it will default to today."
   ],
   "metadata": {}
  },
  {
   "cell_type": "code",
   "execution_count": null,
   "source": [
    "activities=client.get_activities_all()\n",
    "activities.tail(5)\n"
   ],
   "outputs": [],
   "metadata": {}
  },
  {
   "cell_type": "code",
   "execution_count": null,
   "source": [
    "last_month_activities=client.get_activities_timeframe('2020-09-10')\n",
    "first_month_activities=client.get_activities_timeframe(start='2018-06-01',end='2018-07-01')"
   ],
   "outputs": [],
   "metadata": {}
  },
  {
   "cell_type": "markdown",
   "source": [
    "## Sleep Metrics\n",
    "This method pulls the sleep IDs out of the key dataset, then individually pulls the detailed sleep info for each sleep to return one data frame of sleep info for each sleep. Each sleep is its own row - this method does not return nap information except in accumulated nap duration as part of sleep need. If the \"get_keydata_all\" method has not yet been run, then this method will run it first, then return the sleep data. \n",
    "\n",
    "As with the Key Data method, you can run this for either all sleeps, or sleeps between timeframes. If no end date is provided, it will default to today. \n",
    "\n",
    "Depending on how long you've been a WHOOP user, this make take some time to run. I've been on WHOOP for a little over 2 years and this took about 8 minutes for me to run, but was closer to 3 minutes when I initially tested it. **It's preferable to run this method before running the \"get_sleep_events_all\" method as it will significantly streamline sleep event pulls** "
   ],
   "metadata": {}
  },
  {
   "cell_type": "code",
   "execution_count": null,
   "source": [
    "sleep=client.get_sleep_all()\n",
    "sleep.tail(5)\n",
    "    "
   ],
   "outputs": [],
   "metadata": {}
  },
  {
   "cell_type": "code",
   "execution_count": null,
   "source": [
    "last_month_sleep=client.get_sleep_timeframe('2020-09-10')\n",
    "first_month_sleep=client.get_sleep_timeframe(start='2018-06-01',end='2018-07-01')"
   ],
   "outputs": [],
   "metadata": {}
  },
  {
   "cell_type": "markdown",
   "source": [
    "## Sleep Events\n",
    "This method returns the sleep events for each night of sleep. Each row is a phase of sleep (SWS, REM, Light, Awake, Disturbance, Latency), start date/time, end date/time, sleep ID, and phase time in minutes. Sleep events can be merged with the sleep dataset using the sleep ID.  If the \"get_keydata_all\" method has not yet been run, this method will run it first, then return the sleep events data. If the \"get_sleep_all\" function has not yet been run, then this method will pull each sleep event invidually. If the \"get_sleep_all\" method has been run, this method will simply transform the stored events data.\n",
    "\n",
    "As with the Key Data method, you can run this for either all sleep events, or sleep events between timeframes. If no end date is provided, it will default to today. \n",
    "\n",
    "Depending on how long you've been a WHOOP user, this make take some time to run. I've been on WHOOP for a little over 2 years and this took about 7 minutes for me to run, but was closer to 3 minutes when I initially tested it. **If you run get_sleep_all first, this method will be significantly faster\"**"
   ],
   "metadata": {}
  },
  {
   "cell_type": "code",
   "execution_count": null,
   "source": [
    "sleep_events=client.get_sleep_events_all()\n",
    "sleep_events.tail(20)"
   ],
   "outputs": [],
   "metadata": {}
  },
  {
   "cell_type": "code",
   "execution_count": null,
   "source": [
    "last_month_sleep_events=client.get_sleep_events_timeframe('2020-09-10')\n",
    "first_month_sleep_events=client.get_sleep_events_timeframe(start='2018-06-01',end='2018-07-01')"
   ],
   "outputs": [],
   "metadata": {}
  },
  {
   "cell_type": "markdown",
   "source": [
    "## Heart Rate Data\n",
    "This method will return heart rates recorded by WHOOP at every 6 second interval. This method by default returns a list, where each entry is a list of [date, time, and heart rate], but can be used to return a data frame. \n",
    "\n",
    "**This method takes a long time to run**. In testing, it typically ran for 12-15 minutes for me, as a user with over 2 years of WHOOP data. It takes about 6 seconds to pull 1 week of heart rate data and 1 minute to pull 10 weeks. \n",
    "\n",
    "As with the Key Data method, you can run this for either all measured heart rates, or measured heart rates between timeframes. If no end date is provided, it will default to today."
   ],
   "metadata": {}
  },
  {
   "cell_type": "code",
   "execution_count": null,
   "source": [
    "last_month_hr=client.get_hr_timeframe(\"2020-09-10\", df=True) ## with df set to True so a data frame is returned\n",
    "first_month_hr=client.get_hr_timeframe(start='2018-06-01',end='2018-07-01')\n",
    "\n",
    "print(first_month_hr[:10])\n",
    "last_month_hr.sample(5)"
   ],
   "outputs": [],
   "metadata": {}
  },
  {
   "cell_type": "markdown",
   "source": [
    "## Other Methods\n",
    "In addition to the methods above, by using the whoop_login() class, you can access the stored variables and helper functions for your own use. The methods below are available to you:\n",
    "\n",
    "* **auth_code** - to return the API token you generated in the get_authorization step\n",
    "* **whoop_id** - to return your WHOOP athlete id (also available online when you login, in your url string)\n",
    "* **start_datetime** - to return the date and time your WHOOP started collecting your data\n",
    "* **all_data** - to easily access your get_keydata_all pull\n",
    "* **all_activities** - to easily access your activity data pull\n",
    "* **all_sleep** - to easily access your sleep data pull\n",
    "* **all_sleep_events** - to easily access your sleep event data pull\n",
    "* **sport_dict** - to return the WHOOP dictionary of IDs and names for activities available (or not available ;)) in the WHOOP app\n",
    "* **pull_api** - a handy helper function loaded with your authorization token so you can pull from the WHOOP api yourself, just provide a functional url, you also have the option to toggle between json and a data frame, just set df=True)\n",
    "* **pull_sleep_main** - a handy helper function to pull the main sleep metrics data for an individual sleep (must provide a sleep id)\n",
    "* **pull_sleep_events** - a handy helper function to pull the sleep events for an individual sleep (must provide a sleep id)"
   ],
   "metadata": {}
  },
  {
   "cell_type": "code",
   "execution_count": null,
   "source": [
    "auth_code=client.auth_code\n",
    "whoop_id=client.whoop_id\n",
    "start_datetime=client.start_datetime\n",
    "sports=client.sport_dict\n",
    "\n",
    "api_pull=client.pull_api('https://api-7.whoop.com/users/{}?include=profile&include=teams'.format(whoop_id))\n",
    "api_df=client.pull_api('https://api-7.whoop.com/users/{}?include=profile&include=teams'.format(whoop_id),df=True)\n",
    "test_sleep=client.pull_sleep_main('14388190')\n",
    "test_sleep_events=client.pull_sleep_events('14388190')"
   ],
   "outputs": [],
   "metadata": {}
  }
 ],
 "metadata": {
  "kernelspec": {
   "name": "python3",
   "display_name": "Python 3.8.10 64-bit ('venv': venv)"
  },
  "language_info": {
   "codemirror_mode": {
    "name": "ipython",
    "version": 3
   },
   "file_extension": ".py",
   "mimetype": "text/x-python",
   "name": "python",
   "nbconvert_exporter": "python",
   "pygments_lexer": "ipython3",
   "version": "3.8.10"
  },
  "interpreter": {
   "hash": "6ad91ff044e6d41f20d7f3c597a1d3a9885390f0671cf7bcfec9534106fa7ca5"
  }
 },
 "nbformat": 4,
 "nbformat_minor": 2
}